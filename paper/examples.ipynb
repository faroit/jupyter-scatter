{
 "cells": [
  {
   "cell_type": "markdown",
   "id": "ec73f233-b8a4-4af9-a564-02ad7df8192c",
   "metadata": {
    "tags": []
   },
   "source": [
    "# Examples\n",
    "\n",
    "This notebook allows to recreate the figures presented in the usage scenario section.\n",
    "\n",
    "## GeoNames City Dataset\n",
    "\n",
    "Source: https://geonames.org (Retrieved May 1, 2024)"
   ]
  },
  {
   "cell_type": "code",
   "execution_count": 1,
   "id": "9124535f-2aba-44c3-9d8b-3337e4585ef6",
   "metadata": {
    "tags": []
   },
   "outputs": [
    {
     "data": {
      "text/html": [
       "<div>\n",
       "<style scoped>\n",
       "    .dataframe tbody tr th:only-of-type {\n",
       "        vertical-align: middle;\n",
       "    }\n",
       "\n",
       "    .dataframe tbody tr th {\n",
       "        vertical-align: top;\n",
       "    }\n",
       "\n",
       "    .dataframe thead th {\n",
       "        text-align: right;\n",
       "    }\n",
       "</style>\n",
       "<table border=\"1\" class=\"dataframe\">\n",
       "  <thead>\n",
       "    <tr style=\"text-align: right;\">\n",
       "      <th></th>\n",
       "      <th>Name</th>\n",
       "      <th>Longitude</th>\n",
       "      <th>Latitude</th>\n",
       "      <th>Mercator X</th>\n",
       "      <th>Mercator Y</th>\n",
       "      <th>Population</th>\n",
       "      <th>Continent</th>\n",
       "      <th>Country</th>\n",
       "    </tr>\n",
       "  </thead>\n",
       "  <tbody>\n",
       "    <tr>\n",
       "      <th>0</th>\n",
       "      <td>Powidz</td>\n",
       "      <td>17.91926</td>\n",
       "      <td>52.41362</td>\n",
       "      <td>1994762.875</td>\n",
       "      <td>6875261.5</td>\n",
       "      <td>1000</td>\n",
       "      <td>Europe</td>\n",
       "      <td>Poland</td>\n",
       "    </tr>\n",
       "    <tr>\n",
       "      <th>1</th>\n",
       "      <td>Janowiec</td>\n",
       "      <td>21.88940</td>\n",
       "      <td>51.32359</td>\n",
       "      <td>2436716.750</td>\n",
       "      <td>6678734.0</td>\n",
       "      <td>1000</td>\n",
       "      <td>Europe</td>\n",
       "      <td>Poland</td>\n",
       "    </tr>\n",
       "  </tbody>\n",
       "</table>\n",
       "</div>"
      ],
      "text/plain": [
       "       Name  Longitude  Latitude   Mercator X  Mercator Y  Population   \n",
       "0    Powidz   17.91926  52.41362  1994762.875   6875261.5        1000  \\\n",
       "1  Janowiec   21.88940  51.32359  2436716.750   6678734.0        1000   \n",
       "\n",
       "  Continent Country  \n",
       "0    Europe  Poland  \n",
       "1    Europe  Poland  "
      ]
     },
     "execution_count": 1,
     "metadata": {},
     "output_type": "execute_result"
    }
   ],
   "source": [
    "import pandas as pd\n",
    "geonames = pd.read_parquet('https://paper.jupyter-scatter.dev/geonames.pq')\n",
    "geonames.head(2)"
   ]
  },
  {
   "cell_type": "code",
   "execution_count": 2,
   "id": "d7bf9605-1a0c-4341-8630-91c611e0c024",
   "metadata": {
    "tags": []
   },
   "outputs": [
    {
     "data": {
      "application/vnd.jupyter.widget-view+json": {
       "model_id": "84ee872e3e3547b999553653bd1521a8",
       "version_major": 2,
       "version_minor": 0
      },
      "text/plain": [
       "HBox(children=(VBox(children=(Button(button_style='primary', icon='arrows', layout=Layout(width='36px'), style…"
      ]
     },
     "execution_count": 2,
     "metadata": {},
     "output_type": "execute_result"
    }
   ],
   "source": [
    "import jscatter\n",
    "\n",
    "scatter = jscatter.Scatter(\n",
    "    data=geonames,\n",
    "    x='Longitude',\n",
    "    y='Latitude',\n",
    "    color_by='Continent',\n",
    "    width=600,\n",
    "    height=600\n",
    ")\n",
    "scatter.show()"
   ]
  },
  {
   "cell_type": "code",
   "execution_count": 3,
   "id": "000dd0f7-6cd8-4abb-8759-c82048037d54",
   "metadata": {
    "tags": []
   },
   "outputs": [
    {
     "data": {
      "text/plain": [
       "<jscatter.jscatter.Scatter at 0x14cf92ec0>"
      ]
     },
     "execution_count": 3,
     "metadata": {},
     "output_type": "execute_result"
    }
   ],
   "source": [
    "import matplotlib\n",
    "\n",
    "scatter.opacity(0.5)\n",
    "scatter.size(by='Population', map=(1, 8, 10), norm=matplotlib.colors.AsinhNorm())\n",
    "scatter.color(by='Population', map='magma', norm=matplotlib.colors.LogNorm(), order='reverse')"
   ]
  },
  {
   "cell_type": "code",
   "execution_count": 4,
   "id": "dc73e4ce-b063-46d9-bfc6-81b504cf9675",
   "metadata": {
    "tags": []
   },
   "outputs": [
    {
     "data": {
      "text/plain": [
       "<jscatter.jscatter.Scatter at 0x14cf92ec0>"
      ]
     },
     "execution_count": 4,
     "metadata": {},
     "output_type": "execute_result"
    }
   ],
   "source": [
    "scatter.legend(True)\n",
    "scatter.axes(True, labels=True)\n",
    "scatter.tooltip(True, properties=['color', 'Latitude', 'Country'], preview='Name')"
   ]
  },
  {
   "cell_type": "code",
   "execution_count": 5,
   "id": "a5380bed-51ed-4b33-aed7-fae1bd4e808f",
   "metadata": {
    "tags": []
   },
   "outputs": [
    {
     "data": {
      "text/plain": [
       "<jscatter.jscatter.Scatter at 0x14cf92ec0>"
      ]
     },
     "execution_count": 5,
     "metadata": {},
     "output_type": "execute_result"
    }
   ],
   "source": [
    "scatter.xy(x='Mercator X', y='Mercator Y')"
   ]
  },
  {
   "cell_type": "code",
   "execution_count": 6,
   "id": "945c66e5-4ad1-4bb1-94fc-f1326155b5e0",
   "metadata": {
    "tags": []
   },
   "outputs": [
    {
     "data": {
      "text/plain": [
       "<jscatter.jscatter.Scatter at 0x14cf92ec0>"
      ]
     },
     "execution_count": 6,
     "metadata": {},
     "output_type": "execute_result"
    }
   ],
   "source": [
    "scatter.selection(geonames.query('Population > 10_000_000').index)"
   ]
  },
  {
   "cell_type": "code",
   "execution_count": 7,
   "id": "aee62f63-b9de-4ec6-93e4-5c399b6c54c4",
   "metadata": {
    "tags": []
   },
   "outputs": [
    {
     "data": {
      "text/html": [
       "<div>\n",
       "<style scoped>\n",
       "    .dataframe tbody tr th:only-of-type {\n",
       "        vertical-align: middle;\n",
       "    }\n",
       "\n",
       "    .dataframe tbody tr th {\n",
       "        vertical-align: top;\n",
       "    }\n",
       "\n",
       "    .dataframe thead th {\n",
       "        text-align: right;\n",
       "    }\n",
       "</style>\n",
       "<table border=\"1\" class=\"dataframe\">\n",
       "  <thead>\n",
       "    <tr style=\"text-align: right;\">\n",
       "      <th></th>\n",
       "      <th>Name</th>\n",
       "      <th>Longitude</th>\n",
       "      <th>Latitude</th>\n",
       "      <th>Mercator X</th>\n",
       "      <th>Mercator Y</th>\n",
       "      <th>Population</th>\n",
       "      <th>Continent</th>\n",
       "      <th>Country</th>\n",
       "    </tr>\n",
       "  </thead>\n",
       "  <tbody>\n",
       "    <tr>\n",
       "      <th>118851</th>\n",
       "      <td>Seoul</td>\n",
       "      <td>126.97840</td>\n",
       "      <td>37.56600</td>\n",
       "      <td>1.413517e+07</td>\n",
       "      <td>4.518296e+06</td>\n",
       "      <td>10349312</td>\n",
       "      <td>Asia</td>\n",
       "      <td>Korea, Republic of</td>\n",
       "    </tr>\n",
       "    <tr>\n",
       "      <th>118852</th>\n",
       "      <td>Dhaka</td>\n",
       "      <td>90.40744</td>\n",
       "      <td>23.71040</td>\n",
       "      <td>1.006411e+07</td>\n",
       "      <td>2.718158e+06</td>\n",
       "      <td>10356500</td>\n",
       "      <td>Asia</td>\n",
       "      <td>Bangladesh</td>\n",
       "    </tr>\n",
       "    <tr>\n",
       "      <th>118853</th>\n",
       "      <td>Moscow</td>\n",
       "      <td>37.61556</td>\n",
       "      <td>55.75222</td>\n",
       "      <td>4.187345e+06</td>\n",
       "      <td>7.509247e+06</td>\n",
       "      <td>10381222</td>\n",
       "      <td>Europe</td>\n",
       "      <td>Russian Federation</td>\n",
       "    </tr>\n",
       "    <tr>\n",
       "      <th>118854</th>\n",
       "      <td>Wuhan</td>\n",
       "      <td>114.26667</td>\n",
       "      <td>30.58333</td>\n",
       "      <td>1.272011e+07</td>\n",
       "      <td>3.578754e+06</td>\n",
       "      <td>10392693</td>\n",
       "      <td>Asia</td>\n",
       "      <td>China</td>\n",
       "    </tr>\n",
       "    <tr>\n",
       "      <th>118855</th>\n",
       "      <td>Delhi</td>\n",
       "      <td>77.23149</td>\n",
       "      <td>28.65195</td>\n",
       "      <td>8.597370e+06</td>\n",
       "      <td>3.331421e+06</td>\n",
       "      <td>10927986</td>\n",
       "      <td>Asia</td>\n",
       "      <td>India</td>\n",
       "    </tr>\n",
       "    <tr>\n",
       "      <th>118856</th>\n",
       "      <td>Tianjin</td>\n",
       "      <td>117.17667</td>\n",
       "      <td>39.14222</td>\n",
       "      <td>1.304405e+07</td>\n",
       "      <td>4.742064e+06</td>\n",
       "      <td>11090314</td>\n",
       "      <td>Asia</td>\n",
       "      <td>China</td>\n",
       "    </tr>\n",
       "    <tr>\n",
       "      <th>118857</th>\n",
       "      <td>Karachi</td>\n",
       "      <td>67.01040</td>\n",
       "      <td>24.86080</td>\n",
       "      <td>7.459564e+06</td>\n",
       "      <td>2.858657e+06</td>\n",
       "      <td>11624219</td>\n",
       "      <td>Asia</td>\n",
       "      <td>Pakistan</td>\n",
       "    </tr>\n",
       "    <tr>\n",
       "      <th>118858</th>\n",
       "      <td>Mexico City</td>\n",
       "      <td>-99.12766</td>\n",
       "      <td>19.42847</td>\n",
       "      <td>-1.103484e+07</td>\n",
       "      <td>2.205447e+06</td>\n",
       "      <td>12294193</td>\n",
       "      <td>North America</td>\n",
       "      <td>Mexico</td>\n",
       "    </tr>\n",
       "    <tr>\n",
       "      <th>118859</th>\n",
       "      <td>Sao Paulo</td>\n",
       "      <td>-46.63611</td>\n",
       "      <td>-23.54750</td>\n",
       "      <td>-5.191508e+06</td>\n",
       "      <td>-2.698365e+06</td>\n",
       "      <td>12400232</td>\n",
       "      <td>South America</td>\n",
       "      <td>Brazil</td>\n",
       "    </tr>\n",
       "    <tr>\n",
       "      <th>118860</th>\n",
       "      <td>Mumbai</td>\n",
       "      <td>72.88261</td>\n",
       "      <td>19.07283</td>\n",
       "      <td>8.113255e+06</td>\n",
       "      <td>2.163512e+06</td>\n",
       "      <td>12691836</td>\n",
       "      <td>Asia</td>\n",
       "      <td>India</td>\n",
       "    </tr>\n",
       "    <tr>\n",
       "      <th>118861</th>\n",
       "      <td>Chengdu</td>\n",
       "      <td>104.06667</td>\n",
       "      <td>30.66667</td>\n",
       "      <td>1.158465e+07</td>\n",
       "      <td>3.589535e+06</td>\n",
       "      <td>13568357</td>\n",
       "      <td>Asia</td>\n",
       "      <td>China</td>\n",
       "    </tr>\n",
       "    <tr>\n",
       "      <th>118862</th>\n",
       "      <td>Istanbul</td>\n",
       "      <td>28.94966</td>\n",
       "      <td>41.01384</td>\n",
       "      <td>3.222662e+06</td>\n",
       "      <td>5.014384e+06</td>\n",
       "      <td>14804116</td>\n",
       "      <td>Europe</td>\n",
       "      <td>Türkiye</td>\n",
       "    </tr>\n",
       "    <tr>\n",
       "      <th>118863</th>\n",
       "      <td>Lagos</td>\n",
       "      <td>3.39467</td>\n",
       "      <td>6.45407</td>\n",
       "      <td>3.778929e+05</td>\n",
       "      <td>7.199881e+05</td>\n",
       "      <td>15388000</td>\n",
       "      <td>Africa</td>\n",
       "      <td>Nigeria</td>\n",
       "    </tr>\n",
       "    <tr>\n",
       "      <th>118864</th>\n",
       "      <td>Kinshasa</td>\n",
       "      <td>15.31357</td>\n",
       "      <td>-4.32758</td>\n",
       "      <td>1.704699e+06</td>\n",
       "      <td>-4.822027e+05</td>\n",
       "      <td>16000000</td>\n",
       "      <td>Africa</td>\n",
       "      <td>Congo, The Democratic Republic of the</td>\n",
       "    </tr>\n",
       "    <tr>\n",
       "      <th>118865</th>\n",
       "      <td>Guangzhou</td>\n",
       "      <td>113.25000</td>\n",
       "      <td>23.11667</td>\n",
       "      <td>1.260693e+07</td>\n",
       "      <td>2.646134e+06</td>\n",
       "      <td>16096724</td>\n",
       "      <td>Asia</td>\n",
       "      <td>China</td>\n",
       "    </tr>\n",
       "    <tr>\n",
       "      <th>118866</th>\n",
       "      <td>Shenzhen</td>\n",
       "      <td>114.06830</td>\n",
       "      <td>22.54554</td>\n",
       "      <td>1.269802e+07</td>\n",
       "      <td>2.577151e+06</td>\n",
       "      <td>17494398</td>\n",
       "      <td>Asia</td>\n",
       "      <td>China</td>\n",
       "    </tr>\n",
       "    <tr>\n",
       "      <th>118867</th>\n",
       "      <td>Beijing</td>\n",
       "      <td>116.39723</td>\n",
       "      <td>39.90750</td>\n",
       "      <td>1.295728e+07</td>\n",
       "      <td>4.852510e+06</td>\n",
       "      <td>18960744</td>\n",
       "      <td>Asia</td>\n",
       "      <td>China</td>\n",
       "    </tr>\n",
       "    <tr>\n",
       "      <th>118868</th>\n",
       "      <td>Shanghai</td>\n",
       "      <td>121.45806</td>\n",
       "      <td>31.22222</td>\n",
       "      <td>1.352065e+07</td>\n",
       "      <td>3.661642e+06</td>\n",
       "      <td>22315474</td>\n",
       "      <td>Asia</td>\n",
       "      <td>China</td>\n",
       "    </tr>\n",
       "  </tbody>\n",
       "</table>\n",
       "</div>"
      ],
      "text/plain": [
       "               Name  Longitude  Latitude    Mercator X    Mercator Y   \n",
       "118851        Seoul  126.97840  37.56600  1.413517e+07  4.518296e+06  \\\n",
       "118852        Dhaka   90.40744  23.71040  1.006411e+07  2.718158e+06   \n",
       "118853       Moscow   37.61556  55.75222  4.187345e+06  7.509247e+06   \n",
       "118854        Wuhan  114.26667  30.58333  1.272011e+07  3.578754e+06   \n",
       "118855        Delhi   77.23149  28.65195  8.597370e+06  3.331421e+06   \n",
       "118856      Tianjin  117.17667  39.14222  1.304405e+07  4.742064e+06   \n",
       "118857      Karachi   67.01040  24.86080  7.459564e+06  2.858657e+06   \n",
       "118858  Mexico City  -99.12766  19.42847 -1.103484e+07  2.205447e+06   \n",
       "118859    Sao Paulo  -46.63611 -23.54750 -5.191508e+06 -2.698365e+06   \n",
       "118860       Mumbai   72.88261  19.07283  8.113255e+06  2.163512e+06   \n",
       "118861      Chengdu  104.06667  30.66667  1.158465e+07  3.589535e+06   \n",
       "118862     Istanbul   28.94966  41.01384  3.222662e+06  5.014384e+06   \n",
       "118863        Lagos    3.39467   6.45407  3.778929e+05  7.199881e+05   \n",
       "118864     Kinshasa   15.31357  -4.32758  1.704699e+06 -4.822027e+05   \n",
       "118865    Guangzhou  113.25000  23.11667  1.260693e+07  2.646134e+06   \n",
       "118866     Shenzhen  114.06830  22.54554  1.269802e+07  2.577151e+06   \n",
       "118867      Beijing  116.39723  39.90750  1.295728e+07  4.852510e+06   \n",
       "118868     Shanghai  121.45806  31.22222  1.352065e+07  3.661642e+06   \n",
       "\n",
       "        Population      Continent                                Country  \n",
       "118851    10349312           Asia                     Korea, Republic of  \n",
       "118852    10356500           Asia                             Bangladesh  \n",
       "118853    10381222         Europe                     Russian Federation  \n",
       "118854    10392693           Asia                                  China  \n",
       "118855    10927986           Asia                                  India  \n",
       "118856    11090314           Asia                                  China  \n",
       "118857    11624219           Asia                               Pakistan  \n",
       "118858    12294193  North America                                 Mexico  \n",
       "118859    12400232  South America                                 Brazil  \n",
       "118860    12691836           Asia                                  India  \n",
       "118861    13568357           Asia                                  China  \n",
       "118862    14804116         Europe                                Türkiye  \n",
       "118863    15388000         Africa                                Nigeria  \n",
       "118864    16000000         Africa  Congo, The Democratic Republic of the  \n",
       "118865    16096724           Asia                                  China  \n",
       "118866    17494398           Asia                                  China  \n",
       "118867    18960744           Asia                                  China  \n",
       "118868    22315474           Asia                                  China  "
      ]
     },
     "execution_count": 7,
     "metadata": {},
     "output_type": "execute_result"
    }
   ],
   "source": [
    "geonames.iloc[scatter.selection()]"
   ]
  },
  {
   "cell_type": "markdown",
   "id": "c2748d59-106c-43bb-a7cb-fc3cc8a0a474",
   "metadata": {
    "tags": []
   },
   "source": [
    "## Fashion MNIST Embeddings\n",
    "\n",
    "Source: Fashion-MNIST: a Novel Image Dataset for Benchmarking Machine Learning Algorithms. Han Xiao, Kashif Rasul, Roland Vollgraf. [doi:10.48550/arXiv.1708.07747](https://doi.org/10.48550/arXiv.1708.07747)"
   ]
  },
  {
   "cell_type": "code",
   "execution_count": 8,
   "id": "0009c368-933b-4dcb-9e32-d35a5a596e53",
   "metadata": {
    "tags": []
   },
   "outputs": [],
   "source": [
    "import pandas as pd\n",
    "fashion_mnist = pd.read_parquet('https://paper.jupyter-scatter.dev/fashion-mnist-embeddings.pq')"
   ]
  },
  {
   "cell_type": "code",
   "execution_count": 9,
   "id": "a16e1edd-1408-422b-aeb5-1ba0912f613d",
   "metadata": {
    "tags": []
   },
   "outputs": [],
   "source": [
    "import anywidget\n",
    "import traitlets\n",
    "import traittypes\n",
    "\n",
    "class ImagesWidget(anywidget.AnyWidget):\n",
    "    _esm = \"\"\"\n",
    "    const baseUrl = 'https://paper.jupyter-scatter.dev/fashion-mnist-images/';\n",
    "    export function render({ model, el }) {\n",
    "      const container = document.createElement('div');\n",
    "      container.classList.add('images-container');\n",
    "      el.appendChild(container);\n",
    "\n",
    "      const grid = document.createElement('div');\n",
    "      grid.classList.add('images-grid');\n",
    "      container.appendChild(grid);\n",
    "\n",
    "      function renderImages() {\n",
    "        grid.textContent = '';\n",
    "        \n",
    "        model.get('images').forEach((image) => {\n",
    "          const imgId = String(image).padStart(5, '0');\n",
    "        \n",
    "          const img = document.createElement('div');\n",
    "          img.classList.add('images-fashion-mnist');\n",
    "          img.style.backgroundImage = `url(${baseUrl}${imgId}.png)`;\n",
    "        \n",
    "          grid.appendChild(img);\n",
    "        });\n",
    "      }\n",
    "\n",
    "      model.on(\"change:images\", renderImages);\n",
    "      \n",
    "      renderImages();\n",
    "    }\n",
    "    \"\"\"\n",
    "\n",
    "    _css = \"\"\"\n",
    "    .images-container {\n",
    "      position: absolute;\n",
    "      inset: 0;\n",
    "      overflow: auto;\n",
    "      background: black;\n",
    "    }\n",
    "    \n",
    "    .images-grid {\n",
    "      display: grid;\n",
    "      grid-template-columns: repeat(auto-fit, minmax(32px, 1fr));\n",
    "      align-content: flex-start;\n",
    "      gap: 8px;\n",
    "    }\n",
    "    \n",
    "    .images-fashion-mnist {\n",
    "      width: 32px;\n",
    "      height: 32px;\n",
    "      background-repeat: no-repeat;\n",
    "      background-position: center;\n",
    "    }\n",
    "    \"\"\"\n",
    "\n",
    "    images = traittypes.Array(default_value=[]).tag(sync=True)"
   ]
  },
  {
   "cell_type": "code",
   "execution_count": 10,
   "id": "07c93134-e1fe-4073-99c3-01c4a85ed17c",
   "metadata": {
    "tags": []
   },
   "outputs": [
    {
     "data": {
      "application/vnd.jupyter.widget-view+json": {
       "model_id": "8f910fa5da6b49caae0c4024b6759f89",
       "version_major": 2,
       "version_minor": 0
      },
      "text/plain": [
       "AppLayout(children=(ImagesWidget(layout=Layout(grid_area='right-sidebar')), HBox(children=(VBox(children=(Butt…"
      ]
     },
     "execution_count": 10,
     "metadata": {},
     "output_type": "execute_result"
    }
   ],
   "source": [
    "import ipywidgets\n",
    "import jscatter\n",
    "\n",
    "images = ImagesWidget()\n",
    "\n",
    "scatter = jscatter.Scatter(\n",
    "    data=fashion_mnist,\n",
    "    x='umapX',\n",
    "    y='umapY',\n",
    "    color_by='class',\n",
    "    background_color='black',\n",
    ")\n",
    "\n",
    "ipywidgets.link((scatter.widget, 'selection'), (images, 'images'))\n",
    "\n",
    "ipywidgets.AppLayout(center=scatter.show(), right_sidebar=images)"
   ]
  },
  {
   "cell_type": "code",
   "execution_count": 11,
   "id": "666e30f7-f6f2-4153-a0fd-a21c558be727",
   "metadata": {},
   "outputs": [
    {
     "data": {
      "application/vnd.jupyter.widget-view+json": {
       "model_id": "c6dce4917af44b8cbdcc2fb789a9a363",
       "version_major": 2,
       "version_minor": 0
      },
      "text/plain": [
       "GridBox(children=(VBox(children=(HTML(value='<b style=\"display: flex; justify-content: center; margin: 0 0 0 3…"
      ]
     },
     "execution_count": 11,
     "metadata": {},
     "output_type": "execute_result"
    }
   ],
   "source": [
    "config = dict(\n",
    "    data=fashion_mnist,\n",
    "    background_color='#111111',\n",
    "    color_by='class',\n",
    "    legend=True,\n",
    "    axes=False,\n",
    "    zoom_on_selection=True,\n",
    ")\n",
    "\n",
    "pca = jscatter.Scatter(x='pcaX', y='pcaY', **config)\n",
    "tsne = jscatter.Scatter(x='tsneX', y='tsneY', **config)\n",
    "umap = jscatter.Scatter(x='umapX', y='umapY', **config)\n",
    "cae = jscatter.Scatter(x='caeX', y='caeY', **config)\n",
    "\n",
    "jscatter.compose(\n",
    "    [(pca, \"PCA\"), (tsne, \"t-SNE\"), (umap, \"UMAP\"), (cae, \"CAE\")],\n",
    "    sync_selection=True,\n",
    "    sync_hover=True,\n",
    "    rows=2,\n",
    ")"
   ]
  },
  {
   "cell_type": "markdown",
   "id": "d9f882f3-657c-4075-a193-bbb5f35053f8",
   "metadata": {},
   "source": [
    "## Market Capitelization\n",
    "\n",
    "Source: https://ycharts.com (Retrieved June 2, 2024)"
   ]
  },
  {
   "cell_type": "code",
   "execution_count": 12,
   "id": "2f9b91ce-0980-45fb-8359-b1112e320162",
   "metadata": {
    "tags": []
   },
   "outputs": [
    {
     "data": {
      "text/html": [
       "<div>\n",
       "<style scoped>\n",
       "    .dataframe tbody tr th:only-of-type {\n",
       "        vertical-align: middle;\n",
       "    }\n",
       "\n",
       "    .dataframe tbody tr th {\n",
       "        vertical-align: top;\n",
       "    }\n",
       "\n",
       "    .dataframe thead th {\n",
       "        text-align: right;\n",
       "    }\n",
       "</style>\n",
       "<table border=\"1\" class=\"dataframe\">\n",
       "  <thead>\n",
       "    <tr style=\"text-align: right;\">\n",
       "      <th></th>\n",
       "      <th>Symbol</th>\n",
       "      <th>Name</th>\n",
       "      <th>Sector</th>\n",
       "      <th>Industry</th>\n",
       "      <th>Date</th>\n",
       "      <th>Market Capitalization</th>\n",
       "    </tr>\n",
       "  </thead>\n",
       "  <tbody>\n",
       "    <tr>\n",
       "      <th>0</th>\n",
       "      <td>MSFT</td>\n",
       "      <td>Microsoft Corporation</td>\n",
       "      <td>Technology</td>\n",
       "      <td>Software - Infrastructure</td>\n",
       "      <td>1559260800000</td>\n",
       "      <td>947737317</td>\n",
       "    </tr>\n",
       "    <tr>\n",
       "      <th>1</th>\n",
       "      <td>MSFT</td>\n",
       "      <td>Microsoft Corporation</td>\n",
       "      <td>Technology</td>\n",
       "      <td>Software - Infrastructure</td>\n",
       "      <td>1559520000000</td>\n",
       "      <td>918312097</td>\n",
       "    </tr>\n",
       "  </tbody>\n",
       "</table>\n",
       "</div>"
      ],
      "text/plain": [
       "  Symbol                   Name      Sector                   Industry   \n",
       "0   MSFT  Microsoft Corporation  Technology  Software - Infrastructure  \\\n",
       "1   MSFT  Microsoft Corporation  Technology  Software - Infrastructure   \n",
       "\n",
       "            Date  Market Capitalization  \n",
       "0  1559260800000              947737317  \n",
       "1  1559520000000              918312097  "
      ]
     },
     "execution_count": 12,
     "metadata": {},
     "output_type": "execute_result"
    }
   ],
   "source": [
    "import pandas as pd\n",
    "market_cap = pd.read_parquet('https://paper.jupyter-scatter.dev/market-capitalization.pq')\n",
    "market_cap.head(2)"
   ]
  },
  {
   "cell_type": "code",
   "execution_count": 13,
   "id": "e522f6ca-6d55-4f30-9816-f61f50d843ca",
   "metadata": {
    "tags": []
   },
   "outputs": [
    {
     "data": {
      "application/vnd.jupyter.widget-view+json": {
       "model_id": "b7126670035247d6983c2eaf62e8cacd",
       "version_major": 2,
       "version_minor": 0
      },
      "text/plain": [
       "HBox(children=(VBox(children=(Button(button_style='primary', icon='arrows', layout=Layout(width='36px'), style…"
      ]
     },
     "execution_count": 13,
     "metadata": {},
     "output_type": "execute_result"
    }
   ],
   "source": [
    "import jscatter\n",
    "\n",
    "scatter = jscatter.Scatter(data=market_cap, x='Date', x_scale='time', y='Market Capitalization')\n",
    "scatter.axes(grid=True)\n",
    "scatter.legend(True)\n",
    "scatter.color(by='Sector')\n",
    "scatter.connect(by='Symbol')\n",
    "scatter.connection_color('inherit')\n",
    "scatter.connection_size(3)\n",
    "scatter.connection_opacity(0.5)\n",
    "scatter.tooltip(True, preview='Name', properties=['x', 'y', 'color', 'Industry'])\n",
    "scatter.height(480)\n",
    "scatter.show()"
   ]
  },
  {
   "cell_type": "code",
   "execution_count": null,
   "id": "eeb98f98-368b-4c6d-86ee-194ad1945061",
   "metadata": {},
   "outputs": [],
   "source": []
  }
 ],
 "metadata": {
  "kernelspec": {
   "display_name": "Python 3 (ipykernel)",
   "language": "python",
   "name": "python3"
  },
  "language_info": {
   "codemirror_mode": {
    "name": "ipython",
    "version": 3
   },
   "file_extension": ".py",
   "mimetype": "text/x-python",
   "name": "python",
   "nbconvert_exporter": "python",
   "pygments_lexer": "ipython3",
   "version": "3.10.9"
  }
 },
 "nbformat": 4,
 "nbformat_minor": 5
}
